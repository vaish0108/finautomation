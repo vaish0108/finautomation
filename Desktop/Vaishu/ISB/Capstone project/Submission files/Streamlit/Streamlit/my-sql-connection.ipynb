{
 "cells": [
  {
   "cell_type": "code",
   "execution_count": 1,
   "id": "38019a0a",
   "metadata": {},
   "outputs": [
    {
     "name": "stdout",
     "output_type": "stream",
     "text": [
      "Collecting mysql-connector-python\n",
      "  Downloading mysql_connector_python-8.3.0-cp39-cp39-win_amd64.whl (15.4 MB)\n",
      "Installing collected packages: mysql-connector-python\n",
      "Successfully installed mysql-connector-python-8.3.0\n"
     ]
    }
   ],
   "source": [
    "!pip install mysql-connector-python"
   ]
  },
  {
   "cell_type": "code",
   "execution_count": 2,
   "id": "325c3b1d",
   "metadata": {},
   "outputs": [],
   "source": [
    "import mysql.connector\n",
    "from mysql.connector import errorcode"
   ]
  },
  {
   "cell_type": "code",
   "execution_count": 3,
   "id": "1aab4c0d",
   "metadata": {},
   "outputs": [],
   "source": [
    "config = {\n",
    "  'host':'capstone-mysql.mysql.database.azure.com',\n",
    "  'user':'goutham',\n",
    "  'password':'capstone12!',\n",
    "  'database':'isb_demo',\n",
    "  'client_flags': [mysql.connector.ClientFlag.SSL],\n",
    "  'ssl_ca': 'DigiCertGlobalRootG2.crt.pem'\n",
    "}"
   ]
  },
  {
   "cell_type": "code",
   "execution_count": 5,
   "id": "dc3764dd",
   "metadata": {},
   "outputs": [
    {
     "name": "stdout",
     "output_type": "stream",
     "text": [
      "Connection established\n",
      "Finished dropping table (if existed).\n",
      "Finished creating table.\n",
      "Inserted 1 row(s) of data.\n",
      "Inserted 1 row(s) of data.\n",
      "Inserted 1 row(s) of data.\n",
      "Done.\n"
     ]
    }
   ],
   "source": [
    "# Construct connection string\n",
    "\n",
    "try:\n",
    "   conn = mysql.connector.connect(**config)\n",
    "   print(\"Connection established\")\n",
    "except mysql.connector.Error as err:\n",
    "  if err.errno == errorcode.ER_ACCESS_DENIED_ERROR:\n",
    "    print(\"Something is wrong with the user name or password\")\n",
    "  elif err.errno == errorcode.ER_BAD_DB_ERROR:\n",
    "    print(\"Database does not exist\")\n",
    "  else:\n",
    "    print(err)\n",
    "else:\n",
    "  cursor = conn.cursor()\n",
    "\n",
    "  # Drop previous table of same name if one exists\n",
    "  cursor.execute(\"DROP TABLE IF EXISTS inventory;\")\n",
    "  print(\"Finished dropping table (if existed).\")\n",
    "\n",
    "  # Create table\n",
    "  cursor.execute(\"CREATE TABLE inventory (id serial PRIMARY KEY, name VARCHAR(50), quantity INTEGER);\")\n",
    "  print(\"Finished creating table.\")\n",
    "\n",
    "  # Insert some data into table\n",
    "  cursor.execute(\"INSERT INTO inventory (name, quantity) VALUES (%s, %s);\", (\"banana\", 150))\n",
    "  print(\"Inserted\",cursor.rowcount,\"row(s) of data.\")\n",
    "  cursor.execute(\"INSERT INTO inventory (name, quantity) VALUES (%s, %s);\", (\"orange\", 154))\n",
    "  print(\"Inserted\",cursor.rowcount,\"row(s) of data.\")\n",
    "  cursor.execute(\"INSERT INTO inventory (name, quantity) VALUES (%s, %s);\", (\"apple\", 100))\n",
    "  print(\"Inserted\",cursor.rowcount,\"row(s) of data.\")\n",
    "\n",
    "  # Cleanup\n",
    "  conn.commit()\n",
    "  cursor.close()\n",
    "  conn.close()\n",
    "  print(\"Done.\")"
   ]
  },
  {
   "cell_type": "code",
   "execution_count": null,
   "id": "e77b4c47",
   "metadata": {},
   "outputs": [],
   "source": []
  }
 ],
 "metadata": {
  "kernelspec": {
   "display_name": "Python 3 (ipykernel)",
   "language": "python",
   "name": "python3"
  },
  "language_info": {
   "codemirror_mode": {
    "name": "ipython",
    "version": 3
   },
   "file_extension": ".py",
   "mimetype": "text/x-python",
   "name": "python",
   "nbconvert_exporter": "python",
   "pygments_lexer": "ipython3",
   "version": "3.9.12"
  }
 },
 "nbformat": 4,
 "nbformat_minor": 5
}
